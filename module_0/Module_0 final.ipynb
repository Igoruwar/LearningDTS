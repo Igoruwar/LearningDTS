{
 "cells": [
  {
   "cell_type": "code",
   "execution_count": 111,
   "metadata": {},
   "outputs": [
    {
     "name": "stdout",
     "output_type": "stream",
     "text": [
      "Ваш алгоритм угадывает число в среднем за 7 попыток\n"
     ]
    },
    {
     "data": {
      "text/plain": [
       "7"
      ]
     },
     "execution_count": 111,
     "metadata": {},
     "output_type": "execute_result"
    }
   ],
   "source": [
    "# The solution is based on a binary search\n",
    "import numpy as np\n",
    "number = np.random.randint(1,101)\n",
    "\n",
    "def guess_num(number):\n",
    "# Guesses the number and returns the number of attempts\n",
    "    range_of_dig = range (1, 101) \n",
    "    count = 0\n",
    "    value = 1\n",
    "    min_value = 1\n",
    "    max_value = range_of_dig[-1]\n",
    "    for i in range_of_dig:\n",
    "        count += 1  #Trying counter\n",
    "        if value == number:\n",
    "            #print('Вы отгадали число за {} попыток'. format (count))\n",
    "            break\n",
    "# Calculating the next variable value equal to the sum of the current response and 1/2 the\n",
    "# difference between it and the maximum possible value.\n",
    "\n",
    "        elif value < number: \n",
    "            min_value = value  # Setting the lower search value.\n",
    "            value = value + int((max_value-value) / 2)\n",
    "                \n",
    "# Calculating the next variable value equal to the sum of the current response and 1/2 the\n",
    "# difference between it and the minimum possible value.  \n",
    "\n",
    "        elif value > number:\n",
    "            max_value = value  # Setting the upper search value.\n",
    "            value = value - int((value-min_value) / 2)\n",
    "    return count\n",
    "\n",
    "def score_game(game_core):\n",
    "    #Calculate the average number of attempts to guess the number\n",
    "    count_ls = []\n",
    "    np.random.seed(1)  # To generate identical random sequences\n",
    "    random_array = np.random.randint(1,101, size=(1000))\n",
    "    for number in random_array:\n",
    "        count_ls.append(game_core(number))\n",
    "    score = int(np.mean(count_ls))\n",
    "    print(f\"Ваш алгоритм угадывает число в среднем за {score} попыток\")\n",
    "    return(score)\n",
    "score_game(guess_num)\n"
   ]
  }
 ],
 "metadata": {
  "kernelspec": {
   "display_name": "Python 3",
   "language": "python",
   "name": "python3"
  },
  "language_info": {
   "codemirror_mode": {
    "name": "ipython",
    "version": 3
   },
   "file_extension": ".py",
   "mimetype": "text/x-python",
   "name": "python",
   "nbconvert_exporter": "python",
   "pygments_lexer": "ipython3",
   "version": "3.7.6"
  }
 },
 "nbformat": 4,
 "nbformat_minor": 4
}
