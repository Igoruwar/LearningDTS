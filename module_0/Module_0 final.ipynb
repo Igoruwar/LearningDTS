{
 "cells": [
  {
   "cell_type": "code",
   "execution_count": 16,
   "metadata": {},
   "outputs": [
    {
     "name": "stdout",
     "output_type": "stream",
     "text": [
      "Вы отгадали число за 7 попыток\n"
     ]
    }
   ],
   "source": [
    "import numpy as np\n",
    "number = np.random.randint(1,101)\n",
    "range_of_dig = range (1, 101)\n",
    "count = 0\n",
    "value = 1\n",
    "min_value = 1\n",
    "max_value = range_of_dig[-1]\n",
    "for i in range_of_dig:\n",
    "    count +=1    \n",
    "    if value == number:\n",
    "        print('Вы отгадали число за {} попыток'. format (count))\n",
    "        break\n",
    "    elif value < number:\n",
    "        min_value = value\n",
    "        value = value + int((max_value-value)/2)\n",
    "    elif value > number:\n",
    "        max_value = value\n",
    "        value = value - int((value-min_value)/2)\n",
    "        "
   ]
  }
 ],
 "metadata": {
  "kernelspec": {
   "display_name": "Python 3",
   "language": "python",
   "name": "python3"
  },
  "language_info": {
   "codemirror_mode": {
    "name": "ipython",
    "version": 3
   },
   "file_extension": ".py",
   "mimetype": "text/x-python",
   "name": "python",
   "nbconvert_exporter": "python",
   "pygments_lexer": "ipython3",
   "version": "3.7.6"
  }
 },
 "nbformat": 4,
 "nbformat_minor": 4
}
